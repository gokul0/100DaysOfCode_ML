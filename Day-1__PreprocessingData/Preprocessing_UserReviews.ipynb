{
 "cells": [
  {
   "cell_type": "code",
   "execution_count": 1,
   "metadata": {},
   "outputs": [
    {
     "name": "stdout",
     "output_type": "stream",
     "text": [
      "hello world of ML\n"
     ]
    }
   ],
   "source": [
    "print('hello world of ML')"
   ]
  },
  {
   "cell_type": "code",
   "execution_count": 12,
   "metadata": {},
   "outputs": [],
   "source": [
    "categories = {\n",
    "    \"eateries\" : [\"Restaurant\",\"Bar\",\"burger/pizza shops\",\"juice bar\",\"bakery\",\"café\"],\n",
    "    \"recreational_spots\": [\"Beach\",\"Park\",\"dance clubs\",\"swimming pool\",\"gym\",\"beauty & spa\"],\n",
    "    \"tourist_spots\": [\"Church\",\"Resort\",\"Theater\",\"Museum\",\"Mall\",\"Zoo\",\"art galleries\",\"view point\",\"monument\",\"gardens\",\"hotels/other lodgings\"],\n",
    "    \"others\": [\"Local services\"]\n",
    "}"
   ]
  },
  {
   "cell_type": "code",
   "execution_count": 14,
   "metadata": {},
   "outputs": [
    {
     "name": "stdout",
     "output_type": "stream",
     "text": [
      "24\n"
     ]
    }
   ],
   "source": [
    "total_categories = len(categories['eateries']) + len(categories['recreational_spots']) + len(categories['tourist_spots']) + len(categories['others'])\n",
    "print(total_categories)"
   ]
  },
  {
   "cell_type": "code",
   "execution_count": 16,
   "metadata": {},
   "outputs": [
    {
     "name": "stdout",
     "output_type": "stream",
     "text": [
      "data exists\n"
     ]
    }
   ],
   "source": [
    "from pathlib import Path\n",
    "data_folder = Path(\"data/csv\")\n",
    "data_file= data_folder / \"google_review_ratings.csv\"\n",
    "if(data_file.exists()):\n",
    "    print(\"data exists\")\n",
    "else:\n",
    "    print(\"Oops, data not found\")"
   ]
  },
  {
   "cell_type": "code",
   "execution_count": null,
   "metadata": {},
   "outputs": [],
   "source": []
  }
 ],
 "metadata": {
  "kernelspec": {
   "display_name": "Python 3",
   "language": "python",
   "name": "python3"
  },
  "language_info": {
   "codemirror_mode": {
    "name": "ipython",
    "version": 3
   },
   "file_extension": ".py",
   "mimetype": "text/x-python",
   "name": "python",
   "nbconvert_exporter": "python",
   "pygments_lexer": "ipython3",
   "version": "3.7.1"
  }
 },
 "nbformat": 4,
 "nbformat_minor": 2
}
