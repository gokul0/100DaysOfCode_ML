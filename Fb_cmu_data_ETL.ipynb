{
  "nbformat": 4,
  "nbformat_minor": 0,
  "metadata": {
    "colab": {
      "name": "Fb-cmu-data-ETL.ipynb",
      "provenance": [],
      "authorship_tag": "ABX9TyPUU+jOCan78TMl0U0tCi7u",
      "include_colab_link": true
    },
    "kernelspec": {
      "name": "python3",
      "display_name": "Python 3"
    }
  },
  "cells": [
    {
      "cell_type": "markdown",
      "metadata": {
        "id": "view-in-github",
        "colab_type": "text"
      },
      "source": [
        "<a href=\"https://colab.research.google.com/github/gokulanv/100DaysOfCode_ML/blob/master/Fb_cmu_data_ETL.ipynb\" target=\"_parent\"><img src=\"https://colab.research.google.com/assets/colab-badge.svg\" alt=\"Open In Colab\"/></a>"
      ]
    },
    {
      "cell_type": "code",
      "metadata": {
        "id": "UyCnYCMBL0je"
      },
      "source": [
        "import numpy as np\r\n",
        "import matplotlib.pyplot as plt\r\n",
        "import pandas as pd\r\n",
        "\r\n",
        "%load_ext autoreload\r\n",
        "%autoreload 2"
      ],
      "execution_count": 1,
      "outputs": []
    },
    {
      "cell_type": "code",
      "metadata": {
        "id": "inuyxsn4MHod"
      },
      "source": [
        "def my_etl(df):\r\n",
        "    t = pd.DataFrame()\r\n",
        "\r\n",
        "    t['age_group'] = df.D2\r\n",
        "    t['male'] = (df.D1 == 1).astype(int)\r\n",
        "    \r\n",
        "    t['test_last_14_days'] = (df.B10 == 1).astype(int)\r\n",
        "    t['test_positive'] = (df.B10a == 1).astype(int)\r\n",
        "    t['test_negative'] = (df.B10a == 2).astype(int)\r\n",
        "    t['test_unknown'] = (df.B10a == 3).astype(int)\r\n",
        "\r\n",
        "    t['weight'] = df.weight\r\n",
        "    return t"
      ],
      "execution_count": 2,
      "outputs": []
    },
    {
      "cell_type": "code",
      "metadata": {
        "id": "9iykZFLYMV--"
      },
      "source": [
        "import glob\r\n",
        "# Specify your own path\r\n",
        "fnames = sorted(glob.glob('extracted_daily_w4/*.csv'), reverse=True)\r\n",
        "fname = fnames[0]\r\n",
        "print(fname)\r\n",
        "df = pd.read_csv(fname, low_memory=False)\r\n",
        "%time my_etl(df.iloc[:1_000])"
      ],
      "execution_count": null,
      "outputs": []
    },
    {
      "cell_type": "code",
      "metadata": {
        "id": "kxlfjmrsMgRu"
      },
      "source": [
        "# parse date out of filenames to be able to record when survey was offered\r\n",
        "\r\n",
        "def my_date(s):\r\n",
        "    s1 = s.split('cvid_responses_')[1]\r\n",
        "    s2 = s1.split('_recordedby_')[0]\r\n",
        "    s3 = s2.replace('_', '-')\r\n",
        "    return s3"
      ],
      "execution_count": null,
      "outputs": []
    },
    {
      "cell_type": "code",
      "metadata": {
        "id": "kBCwZkedMj_g"
      },
      "source": [
        "%%time\r\n",
        "\r\n",
        "# loop over all data files from wave 4 of survey\r\n",
        "# and extract data from most recent file for each day\r\n",
        "\r\n",
        "data = {}\r\n",
        "for fname in fnames:\r\n",
        "    print(fname)\r\n",
        "    data_date = my_date(fname)\r\n",
        "    if data_date in data.keys():\r\n",
        "        print('already loaded data for', data_date)\r\n",
        "    else:\r\n",
        "        if data_date <= '2020-09-03':  # earlier waves of survey do not contain key questions for this analysis\r\n",
        "            continue\r\n",
        "        df_i = pd.read_csv(fname, low_memory=False)\r\n",
        "        %time data[data_date] = my_etl(df_i)"
      ],
      "execution_count": null,
      "outputs": []
    },
    {
      "cell_type": "code",
      "metadata": {
        "id": "KwYYhVvyMvTO"
      },
      "source": [
        "for k in data.keys():\r\n",
        "    data[k]['date'] = k\r\n",
        "\r\n",
        "df_all = pd.concat(data.values())\r\n",
        "df_all.to_csv('data/fb_data_usa.csv')\r\n",
        "print(df_all.shape)"
      ],
      "execution_count": null,
      "outputs": []
    }
  ]
}